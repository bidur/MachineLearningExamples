{
 "cells": [
  {
   "cell_type": "markdown",
   "metadata": {},
   "source": "# Text Classification Example\n\n- This example shows text Classification as an example of supervised machine learning task.\n- The main steps are:\n        - Explore dataset,\n        - Data Preparation,\n        - Feature Engineering,\n        - Model Training,\n        - Performance Assessment"
  },
  {
   "cell_type": "markdown",
   "metadata": {},
   "source": "#### Problem Definition\n- As discussed above, the problem in context is supervised learning problem. \n- The inherent requirement for supervised learning is the use of labeled dataset \n- Labeled data is necessary for the ML algorithms to learn the patterns in the data. \n- We are using a sample data from amazon reviews."
  },
  {
   "cell_type": "markdown",
   "metadata": {},
   "source": "![Text Classification](https://raoumer.github.io/images/MLmodel.png)"
  },
  {
   "cell_type": "code",
   "execution_count": 15,
   "metadata": {},
   "outputs": [],
   "source": "# Import necessary libraries for dataset preparation, feature engineering, model training \n    \nfrom sklearn import model_selection, preprocessing, metrics, svm\nfrom sklearn.feature_extraction.text import TfidfVectorizer, CountVectorizer\nfrom sklearn.metrics import accuracy_score, precision_score, recall_score, f1_score, classification_report, confusion_matrix\nimport pandas, numpy #textblob, string"
  },
  {
   "cell_type": "code",
   "execution_count": null,
   "metadata": {},
   "outputs": [],
   "source": ""
  },
  {
   "cell_type": "code",
   "execution_count": null,
   "metadata": {},
   "outputs": [],
   "source": ""
  },
  {
   "cell_type": "code",
   "execution_count": null,
   "metadata": {},
   "outputs": [],
   "source": ""
  },
  {
   "cell_type": "markdown",
   "metadata": {},
   "source": " ## References:\n - https://raoumer.github.io/blog_posts/building_ML_model.html\n - https://www.analyticsvidhya.com/blog/2018/04/a-comprehensive-guide-to-understand-and-implement-text-classification-in-python/\n - https://machinelearningmastery.com/how-to-calculate-precision-recall-f1-and-more-for-deep-learning-models/\n - https://towardsdatascience.com/text-classification-in-python-dd95d264c802\n - https://towardsdatascience.com/getting-data-ready-for-modelling-feature-engineering-feature-selection-dimension-reduction-39dfa267b95a\n - https://stackoverflow.com/questions/39130600/what-is-the-difference-between-feature-engineering-and-feature-extraction\n   "
  },
  {
   "cell_type": "code",
   "execution_count": null,
   "metadata": {},
   "outputs": [],
   "source": ""
  }
 ],
 "metadata": {
  "kernelspec": {
   "display_name": "Python 2",
   "language": "python",
   "name": "python2"
  },
  "language_info": {
   "codemirror_mode": {
    "name": "ipython",
    "version": 2
   },
   "file_extension": ".py",
   "mimetype": "text/x-python",
   "name": "python",
   "nbconvert_exporter": "python",
   "pygments_lexer": "ipython2",
   "version": "2.7.15+"
  }
 },
 "nbformat": 4,
 "nbformat_minor": 4
}
