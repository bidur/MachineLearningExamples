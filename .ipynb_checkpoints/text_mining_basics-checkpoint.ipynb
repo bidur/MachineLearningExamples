{
 "cells": [
  {
   "cell_type": "markdown",
   "metadata": {},
   "source": [
    "# Machine Learning\n",
    "\n",
    "Learning -> improving with experience."
   ]
  },
  {
   "cell_type": "markdown",
   "metadata": {},
   "source": [
    "![Machine Learning](https://miro.medium.com/max/700/0*rRe5C8jraGnY-kli.jpeg)\n",
    "\n",
    "Computer Scientist and machine learning pioneer Tom M. Mitchell Portrayed | Source: Machine Learning, McGraw Hill, 1997, Tom M. Mitchell\n",
    "https://bit.ly/3J6tuWN "
   ]
  },
  {
   "cell_type": "markdown",
   "metadata": {},
   "source": [
    "Machine Learning Short Video\n",
    "\n",
    "https://youtu.be/mmXB636p_E8/"
   ]
  },
  {
   "cell_type": "markdown",
   "metadata": {},
   "source": [
    "# Text Mining Basics"
   ]
  },
  {
   "cell_type": "markdown",
   "metadata": {},
   "source": [
    "- Wikipedia says:\n",
    "    - Text mining is \"the discovery by computer of new, previously unknown information, by automatically extracting information from different written resources.\" Written resources can be websites, books, emails, reviews, articles. Text mining, also referred to as text data mining, roughly equivalent to text analytics, is the process of deriving high-quality information from text. High-quality information is typically derived through the devising of patterns and trends through means such as statistical pattern learning. Text mining usually involves the process of structuring the input text (usually parsing, along with the addition of some derived linguistic features and the removal of others, and subsequent insertion into a database), deriving patterns within the structured data, and finally evaluation and interpretation of the output.Typical text mining tasks include text categorization, text clustering, concept/entity extraction, production of granular taxonomies, sentiment analysis, document summarization, and entity relation modeling (i.e., learning relations between named entities).\n",
    "\n",
    "- Online users participate in different activities and generate a massive amount of unstructured text in differnt forms such as  social media posts, articles, website text, blog posts, etc.\n",
    "- The need to analyze textual data to understand currrent/potenital customer activities, opinion, and feedback is essential for any business. For instance, analyzing custmers feedback expressed in TripAdvisor helps Hotels to improve their service. Exploring tweets helps us to update our knowledge regarding the current news and peoples reaction on events and issues. Online sellers like Amazon can analyze their product reviews to understand the end user experiences. "
   ]
  },
  {
   "cell_type": "markdown",
   "metadata": {},
   "source": [
    "#### Text Analytics and Natural Language Processing(NLP)\n",
    "- NLP assists the computer to understand the human language and extract meaning from it. Its application are popular in various domains such as speech recognition, language translation, classifying documents, information extraction.\n",
    "- Python provides a opensource package called Natural Language Toolkit (NLTK) which implements a lot of NLP algorithms such as tokenizing, part-of-speech tagging, stemming, sentiment analysis, topic segmentation, and named entity recognition. "
   ]
  },
  {
   "cell_type": "code",
   "execution_count": 1,
   "metadata": {},
   "outputs": [],
   "source": [
    "# install nltk\n",
    "#!pip install nltk"
   ]
  },
  {
   "cell_type": "code",
   "execution_count": 2,
   "metadata": {},
   "outputs": [],
   "source": [
    "#import NLTK\n",
    "import nltk"
   ]
  },
  {
   "cell_type": "code",
   "execution_count": 3,
   "metadata": {},
   "outputs": [
    {
     "name": "stdout",
     "output_type": "stream",
     "text": [
      "Help on package nltk:\n",
      "\n",
      "NAME\n",
      "    nltk\n",
      "\n",
      "DESCRIPTION\n",
      "    The Natural Language Toolkit (NLTK) is an open source Python library\n",
      "    for Natural Language Processing.  A free online book is available.\n",
      "    (If you use the library for academic research, please cite the book.)\n",
      "    \n",
      "    Steven Bird, Ewan Klein, and Edward Loper (2009).\n",
      "    Natural Language Processing with Python.  O'Reilly Media Inc.\n",
      "    http://nltk.org/book\n",
      "    \n",
      "    @version: 3.6.2\n",
      "\n",
      "PACKAGE CONTENTS\n",
      "    app (package)\n",
      "    book\n",
      "    ccg (package)\n",
      "    chat (package)\n",
      "    chunk (package)\n",
      "    classify (package)\n",
      "    cli\n",
      "    cluster (package)\n",
      "    collections\n",
      "    collocations\n",
      "    compat\n",
      "    corpus (package)\n",
      "    data\n",
      "    decorators\n",
      "    downloader\n",
      "    draw (package)\n",
      "    featstruct\n",
      "    grammar\n",
      "    help\n",
      "    inference (package)\n",
      "    internals\n",
      "    jsontags\n",
      "    lazyimport\n",
      "    lm (package)\n",
      "    metrics (package)\n",
      "    misc (package)\n",
      "    parse (package)\n",
      "    probability\n",
      "    sem (package)\n",
      "    sentiment (package)\n",
      "    stem (package)\n",
      "    tag (package)\n",
      "    tbl (package)\n",
      "    test (package)\n",
      "    text\n",
      "    tgrep\n",
      "    tokenize (package)\n",
      "    toolbox\n",
      "    translate (package)\n",
      "    tree\n",
      "    treeprettyprinter\n",
      "    treetransforms\n",
      "    twitter (package)\n",
      "    util\n",
      "    wsd\n",
      "\n",
      "SUBMODULES\n",
      "    agreement\n",
      "    aline\n",
      "    api\n",
      "    association\n",
      "    bleu_score\n",
      "    bllip\n",
      "    boxer\n",
      "    brill\n",
      "    brill_trainer\n",
      "    casual\n",
      "    chart\n",
      "    chrf_score\n",
      "    cistem\n",
      "    confusionmatrix\n",
      "    corenlp\n",
      "    crf\n",
      "    decisiontree\n",
      "    dependencygraph\n",
      "    destructive\n",
      "    discourse\n",
      "    distance\n",
      "    drt\n",
      "    earleychart\n",
      "    evaluate\n",
      "    featurechart\n",
      "    gale_church\n",
      "    gdfa\n",
      "    gleu_score\n",
      "    glue\n",
      "    hmm\n",
      "    hunpos\n",
      "    ibm1\n",
      "    ibm2\n",
      "    ibm3\n",
      "    ibm4\n",
      "    ibm5\n",
      "    ibm_model\n",
      "    isri\n",
      "    lancaster\n",
      "    legality_principle\n",
      "    lfg\n",
      "    linearlogic\n",
      "    logic\n",
      "    mace\n",
      "    malt\n",
      "    mapping\n",
      "    maxent\n",
      "    megam\n",
      "    meteor_score\n",
      "    mwe\n",
      "    naivebayes\n",
      "    nist_score\n",
      "    nonprojectivedependencyparser\n",
      "    paice\n",
      "    pchart\n",
      "    perceptron\n",
      "    phrase_based\n",
      "    porter\n",
      "    positivenaivebayes\n",
      "    projectivedependencyparser\n",
      "    prover9\n",
      "    punkt\n",
      "    recursivedescent\n",
      "    regexp\n",
      "    relextract\n",
      "    repp\n",
      "    resolution\n",
      "    ribes_score\n",
      "    rslp\n",
      "    rte_classify\n",
      "    scikitlearn\n",
      "    scores\n",
      "    segmentation\n",
      "    senna\n",
      "    sequential\n",
      "    sexpr\n",
      "    shiftreduce\n",
      "    simple\n",
      "    snowball\n",
      "    sonority_sequencing\n",
      "    spearman\n",
      "    stack_decoder\n",
      "    stanford\n",
      "    stanford_segmenter\n",
      "    tableau\n",
      "    tadm\n",
      "    textcat\n",
      "    texttiling\n",
      "    tnt\n",
      "    toktok\n",
      "    transitionparser\n",
      "    treebank\n",
      "    viterbi\n",
      "    weka\n",
      "    wordnet\n",
      "\n",
      "FUNCTIONS\n",
      "    demo()\n",
      "        # FIXME:  override any accidentally imported demo, see https://github.com/nltk/nltk/issues/2116\n",
      "    \n",
      "    tee(...)\n",
      "        tee(iterable, n=2) --> tuple of n independent iterators.\n",
      "\n",
      "DATA\n",
      "    RUS_PICKLE = 'taggers/averaged_perceptron_tagger_ru/averaged_perceptro...\n",
      "    SLASH = *slash*\n",
      "    TYPE = *type*\n",
      "    __author_email__ = 'stevenbird1@gmail.com'\n",
      "    __classifiers__ = ['Development Status :: 5 - Production/Stable', 'Int...\n",
      "    __copyright__ = 'Copyright (C) 2001-2021 NLTK Project.\\n\\nDistribut......\n",
      "    __keywords__ = ['NLP', 'CL', 'natural language processing', 'computati...\n",
      "    __license__ = 'Apache License, Version 2.0'\n",
      "    __longdescr__ = 'The Natural Language Toolkit (NLTK) is a Python ... p...\n",
      "    __maintainer__ = 'Steven Bird, Edward Loper, Ewan Klein'\n",
      "    __maintainer_email__ = 'stevenbird1@gmail.com'\n",
      "    __url__ = 'http://nltk.org/'\n",
      "    app = <LazyModule 'nltk.nltk.app'>\n",
      "    chat = <LazyModule 'nltk.nltk.chat'>\n",
      "    corpus = <LazyModule 'nltk.nltk.corpus'>\n",
      "    infile = <_io.TextIOWrapper name='/home/bidur/.local/lib/...packages/n...\n",
      "    json_tags = {'!nltk.tag.BrillTagger': <class 'nltk.tag.brill.BrillTagg...\n",
      "    toolbox = <LazyModule 'nltk.nltk.toolbox'>\n",
      "    version_file = '/home/bidur/.local/lib/python3.6/site-packages/nltk/VE...\n",
      "    version_info = sys.version_info(major=3, minor=6, micro=9, releaseleve...\n",
      "\n",
      "VERSION\n",
      "    3.6.2\n",
      "\n",
      "AUTHOR\n",
      "    Steven Bird, Edward Loper, Ewan Klein\n",
      "\n",
      "FILE\n",
      "    /home/bidur/.local/lib/python3.6/site-packages/nltk/__init__.py\n",
      "\n",
      "\n"
     ]
    }
   ],
   "source": [
    "# Lets check what is nltk\n",
    "help(\"nltk\")"
   ]
  },
  {
   "cell_type": "code",
   "execution_count": 4,
   "metadata": {},
   "outputs": [
    {
     "data": {
      "text/plain": [
       "['__add__',\n",
       " '__class__',\n",
       " '__contains__',\n",
       " '__delattr__',\n",
       " '__dir__',\n",
       " '__doc__',\n",
       " '__eq__',\n",
       " '__format__',\n",
       " '__ge__',\n",
       " '__getattribute__',\n",
       " '__getitem__',\n",
       " '__getnewargs__',\n",
       " '__gt__',\n",
       " '__hash__',\n",
       " '__init__',\n",
       " '__init_subclass__',\n",
       " '__iter__',\n",
       " '__le__',\n",
       " '__len__',\n",
       " '__lt__',\n",
       " '__mod__',\n",
       " '__mul__',\n",
       " '__ne__',\n",
       " '__new__',\n",
       " '__reduce__',\n",
       " '__reduce_ex__',\n",
       " '__repr__',\n",
       " '__rmod__',\n",
       " '__rmul__',\n",
       " '__setattr__',\n",
       " '__sizeof__',\n",
       " '__str__',\n",
       " '__subclasshook__',\n",
       " 'capitalize',\n",
       " 'casefold',\n",
       " 'center',\n",
       " 'count',\n",
       " 'encode',\n",
       " 'endswith',\n",
       " 'expandtabs',\n",
       " 'find',\n",
       " 'format',\n",
       " 'format_map',\n",
       " 'index',\n",
       " 'isalnum',\n",
       " 'isalpha',\n",
       " 'isdecimal',\n",
       " 'isdigit',\n",
       " 'isidentifier',\n",
       " 'islower',\n",
       " 'isnumeric',\n",
       " 'isprintable',\n",
       " 'isspace',\n",
       " 'istitle',\n",
       " 'isupper',\n",
       " 'join',\n",
       " 'ljust',\n",
       " 'lower',\n",
       " 'lstrip',\n",
       " 'maketrans',\n",
       " 'partition',\n",
       " 'replace',\n",
       " 'rfind',\n",
       " 'rindex',\n",
       " 'rjust',\n",
       " 'rpartition',\n",
       " 'rsplit',\n",
       " 'rstrip',\n",
       " 'split',\n",
       " 'splitlines',\n",
       " 'startswith',\n",
       " 'strip',\n",
       " 'swapcase',\n",
       " 'title',\n",
       " 'translate',\n",
       " 'upper',\n",
       " 'zfill']"
      ]
     },
     "execution_count": 4,
     "metadata": {},
     "output_type": "execute_result"
    }
   ],
   "source": [
    "# what does it contain\n",
    "dir(\"nltk\")"
   ]
  },
  {
   "cell_type": "markdown",
   "metadata": {},
   "source": [
    "#### Tokenization: \n",
    "- breaking down a text paragraph into smaller chunks such as words or sentence. \n",
    "- Token: single entity, i.e. building blocks for sentence or paragraph."
   ]
  },
  {
   "cell_type": "code",
   "execution_count": 23,
   "metadata": {},
   "outputs": [
    {
     "name": "stdout",
     "output_type": "stream",
     "text": [
      "Let's mine the knowledge within.\n",
      "Pokhara is a popular tourism destination in Nepal.\n",
      "['Machine Learning Example Class, WRC Pokhara, Nepal.', 'WRC is in Pokhara.', 'Pokhara is a popular tourism destination in Nepal.', 'Nepal is a south asian country.', \"Let's mine the knowledge within.\", 'Masters program for Geomatics Engineering.']\n"
     ]
    }
   ],
   "source": [
    "# sentence tokenization\n",
    "from nltk.tokenize import sent_tokenize\n",
    "text=\"\"\"Machine Learning Example Class, WRC Pokhara, Nepal.\n",
    "WRC is in Pokhara. Pokhara is a popular tourism destination in Nepal.\n",
    "Nepal is a south asian country. Let's mine the knowledge within.\n",
    "Masters program for Geomatics Engineering.\"\"\"\n",
    "tokenized_text=sent_tokenize(text)\n",
    "print(tokenized_text[4])\n",
    "print(tokenized_text[2])\n",
    "print (tokenized_text)"
   ]
  },
  {
   "cell_type": "code",
   "execution_count": 24,
   "metadata": {},
   "outputs": [
    {
     "name": "stdout",
     "output_type": "stream",
     "text": [
      "Example\n",
      "['Machine', 'Learning', 'Example', 'Class', ',', 'WRC', 'Pokhara', ',', 'Nepal', '.', 'WRC', 'is', 'in', 'Pokhara', '.', 'Pokhara', 'is', 'a', 'popular', 'tourism', 'destination', 'in', 'Nepal', '.', 'Nepal', 'is', 'a', 'south', 'asian', 'country', '.', 'Let', \"'s\", 'mine', 'the', 'knowledge', 'within', '.', 'Masters', 'program', 'for', 'Geomatics', 'Engineering', '.']\n"
     ]
    }
   ],
   "source": [
    "# word tokenization\n",
    "\n",
    "from nltk.tokenize import word_tokenize\n",
    "tokenized_word=word_tokenize(text)\n",
    "print(tokenized_word[2])\n",
    "print(tokenized_word)"
   ]
  },
  {
   "cell_type": "markdown",
   "metadata": {},
   "source": [
    "#### Frequency DIstribution:\n",
    "- counting words in the text.\n",
    "- Class FreqDist works in a dictionary like manner and generates a key-value pair.\n",
    "    - Keys: words in the input \n",
    "    - Values: count associated with that word"
   ]
  },
  {
   "cell_type": "code",
   "execution_count": 27,
   "metadata": {},
   "outputs": [
    {
     "name": "stdout",
     "output_type": "stream",
     "text": [
      "<FreqDist with 29 samples and 44 outcomes>\n",
      "Nepal: 3\n",
      "WRC: 2\n",
      "Geomatics: 1\n"
     ]
    }
   ],
   "source": [
    "from nltk.probability import FreqDist\n",
    "fdist = FreqDist(tokenized_word)\n",
    "print(fdist)\n",
    "print (\"Nepal: %d\" % fdist['Nepal']) # gives the count of 'Nepal' in the input\n",
    "print (\"WRC: \" + str(fdist['WRC']) )\n",
    "print (\"Geomatics: \" + str(fdist['Geomatics']) )"
   ]
  },
  {
   "cell_type": "code",
   "execution_count": 28,
   "metadata": {},
   "outputs": [
    {
     "data": {
      "text/plain": [
       "[('.', 6), ('Pokhara', 3)]"
      ]
     },
     "execution_count": 28,
     "metadata": {},
     "output_type": "execute_result"
    }
   ],
   "source": [
    "fdist.most_common(2)"
   ]
  },
  {
   "cell_type": "code",
   "execution_count": null,
   "metadata": {},
   "outputs": [],
   "source": []
  },
  {
   "cell_type": "code",
   "execution_count": null,
   "metadata": {},
   "outputs": [],
   "source": []
  },
  {
   "cell_type": "code",
   "execution_count": 9,
   "metadata": {},
   "outputs": [
    {
     "data": {
      "image/png": "[encoded data removed]",
      "text/plain": [
       "<Figure size 432x288 with 1 Axes>"
      ]
     },
     "metadata": {
      "needs_background": "light"
     },
     "output_type": "display_data"
    }
   ],
   "source": [
    "# Lets plot the frequency distribution\n",
    "import matplotlib.pyplot as plt\n",
    "fdist.plot(30,cumulative=False)\n",
    "plt.show()"
   ]
  },
  {
   "cell_type": "markdown",
   "metadata": {},
   "source": [
    "#### Stopwords\n",
    "- These are the common words in a language such as is, am, are, this, a, an, the, etc.\n",
    "- normally considered as noise."
   ]
  },
  {
   "cell_type": "code",
   "execution_count": 10,
   "metadata": {},
   "outputs": [
    {
     "name": "stdout",
     "output_type": "stream",
     "text": [
      "{'the', 'so', 'other', 'hadn', 'but', 'of', 'is', \"won't\", 'an', 'am', \"weren't\", 'until', \"shan't\", 'had', 'ma', 'isn', 'both', 'there', 'under', 'against', 'themselves', 'he', 'when', 'doesn', 'her', 'its', 'just', 'our', 'then', 'been', 'which', 'after', 'itself', 'all', 'most', 'aren', \"doesn't\", 'where', 'too', 'hasn', 'down', 'yours', \"hasn't\", 'wasn', 'won', 'whom', 'can', \"hadn't\", \"couldn't\", 'below', 'about', \"don't\", 'few', 'you', 'have', 'again', 'a', 'i', 'this', 's', 'was', \"you've\", 'as', 'couldn', \"you'd\", 'any', 'own', 'are', 'for', 'than', 've', 'what', \"didn't\", \"wouldn't\", 'should', 'being', 'how', 'such', 'further', 'because', \"aren't\", 'or', 'll', 'some', \"isn't\", 'who', 'y', 'only', 'same', \"mustn't\", 'yourselves', 'nor', \"should've\", 'shouldn', 'wouldn', 'your', 'through', 'o', \"you'll\", \"needn't\", 'their', 'it', 'very', 'weren', 'those', 'did', \"you're\", 're', 'me', 'more', 't', \"shouldn't\", 'them', 'with', 'at', 'd', 'were', 'she', 'not', 'has', 'having', 'himself', 'theirs', 'by', 'mightn', 'before', 'on', 'shan', 'we', 'him', 'ourselves', 'yourself', 'didn', 'while', 'now', 'm', 'ours', 'to', 'haven', 'into', \"mightn't\", 'myself', 'they', 'ain', 'mustn', 'above', 'does', 'once', 'hers', \"wasn't\", 'during', 'will', \"she's\", \"that'll\", 'if', 'here', 'my', 'from', 'between', 'and', 'don', 'each', 'needn', 'that', 'be', 'over', 'in', \"haven't\", 'why', 'out', 'off', 'no', 'his', \"it's\", 'up', 'doing', 'herself', 'these', 'do'}\n"
     ]
    }
   ],
   "source": [
    "# Lets check the NLTK stopwords\n",
    "from nltk.corpus import stopwords\n",
    "stop_words=set(stopwords.words(\"english\"))\n",
    "print(stop_words)"
   ]
  },
  {
   "cell_type": "markdown",
   "metadata": {},
   "source": [
    "##### Since stopwords are considered as noise, we have to remove them"
   ]
  },
  {
   "cell_type": "code",
   "execution_count": 41,
   "metadata": {},
   "outputs": [
    {
     "name": "stdout",
     "output_type": "stream",
     "text": [
      "Tokenized Sentence:\n",
      " \t ['Machine', 'Learning', 'Example', 'Class', ',', 'WRC', 'Pokhara', ',', 'Nepal', '.', 'WRC', 'is', 'in', 'Pokhara', '.', 'Pokhara', 'is', 'a', 'popular', 'tourism', 'destination', 'in', 'Nepal', '.', 'Nepal', 'is', 'a', 'south', 'asian', 'country', '.', 'Let', \"'s\", 'mine', 'the', 'knowledge', 'within', '.', 'Masters', 'program', 'for', 'Geomatics', 'Engineering', '.']\n",
      "\n",
      "\n",
      "Filterd Sentence:\n",
      " \t ['Machine', 'Learning', 'Example', 'Class', ',', 'WRC', 'Pokhara', ',', 'Nepal', '.', 'WRC', 'Pokhara', '.', 'Pokhara', 'popular', 'tourism', 'destination', 'Nepal', '.', 'Nepal', 'south', 'asian', 'country', '.', 'Let', \"'s\", 'mine', 'knowledge', 'within', '.', 'Masters', 'program', 'Geomatics', 'Engineering', '.']\n"
     ]
    }
   ],
   "source": [
    "filtered_sent=[]\n",
    "for w in tokenized_word:\n",
    "    if w not in stop_words:\n",
    "        filtered_sent.append(w)\n",
    "print(\"Tokenized Sentence:\\n \\t\",tokenized_word)\n",
    "print('\\n')\n",
    "print(\"Filterd Sentence:\\n \\t\",filtered_sent)"
   ]
  },
  {
   "cell_type": "markdown",
   "metadata": {},
   "source": [
    "#### Lexicon\n",
    "\n",
    "- It is also called as wordbook i.e. the complete set of meaningful units in a language.\n",
    "- Lexicon normalization considers another type of noise in the text. For example, mining, mines, mined word reduce to a common word \"mine\". It reduces derivationally related forms of a word to a common root word.\n",
    "\n",
    "#### Stemming\n",
    "- process of linguistic normalization.\n",
    "- It reduces words to their root word. For example:\n",
    "    - mining, mines, mined word reduce to a common word \"mine\".\n",
    "    - Lerned, learning words reduce to a common work \"learn\"."
   ]
  },
  {
   "cell_type": "code",
   "execution_count": 12,
   "metadata": {},
   "outputs": [
    {
     "name": "stdout",
     "output_type": "stream",
     "text": [
      "Filtered Sentence: ['Machine', 'Learning', 'Example', 'Class', ',', 'WRC', 'Pokhara', ',', 'Nepal', '.', 'WRC', 'Pokhara', '.', 'Pokhara', 'popular', 'tourism', 'destination', 'Nepal', '.', 'Nepal', 'south', 'asian', 'country', '.', 'Let', \"'s\", 'mine', 'knowledge', 'within', '.']\n",
      "Stemmed Sentence: ['machin', 'learn', 'exampl', 'class', ',', 'wrc', 'pokhara', ',', 'nepal', '.', 'wrc', 'pokhara', '.', 'pokhara', 'popular', 'tourism', 'destin', 'nepal', '.', 'nepal', 'south', 'asian', 'countri', '.', 'let', \"'s\", 'mine', 'knowledg', 'within', '.']\n"
     ]
    }
   ],
   "source": [
    "# Lets check the stem words in the input\n",
    "from nltk.stem import PorterStemmer\n",
    "from nltk.tokenize import sent_tokenize, word_tokenize\n",
    "\n",
    "ps = PorterStemmer()\n",
    "\n",
    "stemmed_words=[]\n",
    "for w in filtered_sent:\n",
    "    stemmed_words.append(ps.stem(w))\n",
    "\n",
    "print(\"Filtered Sentence:\",filtered_sent)\n",
    "print(\"Stemmed Sentence:\",stemmed_words)"
   ]
  },
  {
   "cell_type": "markdown",
   "metadata": {},
   "source": [
    "#### Lemmatization\n",
    "- Reduces words to their base word i.e. lemmas. \n",
    "- It transforms root word with the use of vocabulary and morphological analysis. Lemmatization is usually more sophisticated than stemming. Stemmer works on an individual word without knowledge of the context. For example, The word \"better\" has \"good\" as its lemma. This thing will miss by stemming because it requires a dictionary look-up.\n",
    "\n"
   ]
  },
  {
   "cell_type": "code",
   "execution_count": 42,
   "metadata": {},
   "outputs": [
    {
     "name": "stdout",
     "output_type": "stream",
     "text": [
      "Lemmatized Word: fly\n",
      "Stemmed Word: fli\n"
     ]
    }
   ],
   "source": [
    "#Lets compare stemming and Lemmatization. Which is better??\n",
    "\n",
    "from nltk.stem.wordnet import WordNetLemmatizer\n",
    "lem = WordNetLemmatizer()\n",
    "\n",
    "from nltk.stem.porter import PorterStemmer\n",
    "stem = PorterStemmer()\n",
    "\n",
    "word = \"flying\"\n",
    "print(\"Lemmatized Word:\",lem.lemmatize(word,\"v\"))\n",
    "print(\"Stemmed Word:\",stem.stem(word))"
   ]
  },
  {
   "cell_type": "markdown",
   "metadata": {},
   "source": [
    "#### Part-of-Speech (POS) Tagging\n",
    "- identifies the grammatical group of a given word such as NOUN, ADJECTIVE, VERB, etc. based on the context. "
   ]
  },
  {
   "cell_type": "code",
   "execution_count": 43,
   "metadata": {},
   "outputs": [
    {
     "name": "stdout",
     "output_type": "stream",
     "text": [
      "tokens:  ['Nepal', 'experienced', 'a', 'devastating', 'earthquake', 'in', '2015', '.']\n",
      "POS:  [('Nepal', 'NNP'), ('experienced', 'VBD'), ('a', 'DT'), ('devastating', 'VBG'), ('earthquake', 'NN'), ('in', 'IN'), ('2015', 'CD'), ('.', '.')]\n"
     ]
    }
   ],
   "source": [
    "sent = \" Nepal experienced a devastating earthquake in 2015.\"\n",
    "\n",
    "tokens=nltk.word_tokenize(sent)\n",
    "print (\"tokens: \", tokens)\n",
    "\n",
    "print (\"POS: \", nltk.pos_tag(tokens) )\n"
   ]
  },
  {
   "cell_type": "markdown",
   "metadata": {},
   "source": [
    "#### Note:\n",
    "NNP: Proper Noun, Singlualr | \n",
    "VBD: verb, past tense |\n",
    "DT: determiner   | \n",
    "VBG: verb, gerund/present participle taking   | \n",
    "NN: Noun singular or mass | \n",
    "IN: Preposition or subordinating conjuction | \n",
    "CD: Cardinal number "
   ]
  },
  {
   "cell_type": "markdown",
   "metadata": {},
   "source": [
    "### Named Entity Recognisition\n",
    "- detecting the named entities like location,company, person, monetary value, etc."
   ]
  },
  {
   "cell_type": "code",
   "execution_count": 15,
   "metadata": {},
   "outputs": [],
   "source": [
    "#nltk.download('maxent_ne_chunker')"
   ]
  },
  {
   "cell_type": "code",
   "execution_count": 16,
   "metadata": {},
   "outputs": [
    {
     "data": {
      "image/png": "[encoded data removed]",
      "text/plain": [
       "Tree('S', [Tree('PERSON', [('Nepal', 'NNP')]), ('experienced', 'VBD'), ('a', 'DT'), ('devastating', 'VBG'), ('earthquake', 'NN'), ('in', 'IN'), ('2015', 'CD'), ('.', '.')])"
      ]
     },
     "execution_count": 16,
     "metadata": {},
     "output_type": "execute_result"
    }
   ],
   "source": [
    "text = \" Nepal experienced a devastating earthquake in 2015.\"\n",
    "#importing chunk library from nltk\n",
    "from nltk import ne_chunk\n",
    "# tokenize and POS Tagging before doing chunk\n",
    "token = word_tokenize(text)\n",
    "tags = nltk.pos_tag(token)\n",
    "chunk = ne_chunk(tags)\n",
    "chunk"
   ]
  },
  {
   "cell_type": "markdown",
   "metadata": {},
   "source": [
    "#### Chunking \n",
    "- grouping individual pieces of information into a bigger pieces, i.e., grouping of words or tokens into chunks."
   ]
  },
  {
   "cell_type": "code",
   "execution_count": 17,
   "metadata": {},
   "outputs": [
    {
     "name": "stdout",
     "output_type": "stream",
     "text": [
      "(S\n",
      "  (NP The/DT white/JJ paper/NN)\n",
      "  is/VBZ\n",
      "  (NP the/DT big/JJ black/JJ bag/NN))\n"
     ]
    }
   ],
   "source": [
    "text = \" The white paper is the big black bag\"\n",
    "token = word_tokenize(text)\n",
    "tags = nltk.pos_tag(token)\n",
    "reg = \"NP: {<DT>?<JJ>*<NN>}\"\n",
    "a = nltk.RegexpParser(reg)\n",
    "result = a.parse(tags)\n",
    "print(result)"
   ]
  },
  {
   "cell_type": "code",
   "execution_count": null,
   "metadata": {},
   "outputs": [],
   "source": []
  },
  {
   "cell_type": "code",
   "execution_count": null,
   "metadata": {},
   "outputs": [],
   "source": []
  },
  {
   "cell_type": "code",
   "execution_count": null,
   "metadata": {},
   "outputs": [],
   "source": []
  },
  {
   "cell_type": "markdown",
   "metadata": {},
   "source": [
    "## References:\n",
    "- https://en.wikipedia.org/wiki/Text_mining\n",
    "- https://expertsystem.com/natural-language-processing-and-text-mining/\n",
    "- https://www.nltk.org/\n",
    "- https://www.datacamp.com/community/tutorials/text-analytics-beginners-nltk\n",
    "- https://medium.com/towards-artificial-intelligence/text-mining-in-python-steps-and-examples-78b3f8fd913b\n"
   ]
  },
  {
   "cell_type": "code",
   "execution_count": null,
   "metadata": {},
   "outputs": [],
   "source": []
  }
 ],
 "metadata": {
  "kernelspec": {
   "display_name": "Python 3",
   "language": "python",
   "name": "python3"
  },
  "language_info": {
   "codemirror_mode": {
    "name": "ipython",
    "version": 3
   },
   "file_extension": ".py",
   "mimetype": "text/x-python",
   "name": "python",
   "nbconvert_exporter": "python",
   "pygments_lexer": "ipython3",
   "version": "3.6.9"
  }
 },
 "nbformat": 4,
 "nbformat_minor": 4
}
