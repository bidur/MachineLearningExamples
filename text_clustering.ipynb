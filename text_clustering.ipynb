{
 "cells": [
  {
   "cell_type": "markdown",
   "metadata": {},
   "source": [
    "# Text Clustering Example"
   ]
  },
  {
   "cell_type": "markdown",
   "metadata": {},
   "source": [
    "- This example shows text Clustering as an example of unsupervised machine learning task.\n",
    "- The main steps are:\n",
    "    - Explore dataset\n",
    "    - Data Preparation\n",
    "    - Feature Engineering\n",
    "    - Model Training\n",
    "    - Performance Assessment"
   ]
  },
  {
   "cell_type": "markdown",
   "metadata": {},
   "source": [
    "- Clustering: grouping similar objects together based on their inherent attributes. \n",
    "- Being unsupervised appraoch there is no need of prelabelled datasets. \n",
    "- Examples: KMeans, PAM, DBSCAN, Spectral clustering, etc. \n",
    "- The choice of the algorithm mainly depends on the problem domain and the algorithm property. For example, to use KMeans we should have pre-knowledge of the number of clusters to obtain. However, if we do not know the number of clusters already, then DBSCAN is better."
   ]
  },
  {
   "cell_type": "markdown",
   "metadata": {},
   "source": [
    "#### Problem Definition\n",
    "- As discussed above, the problem in context is unsupervised learning problem. \n",
    "- We will use BCC news datasets available from http://mlg.ucd.ie/files/datasets/bbc-fulltext.zip. A total of 2225 documents with five different news categories(i.e. business, entertainment, politics, sport, and tech) are available in the dataset."
   ]
  },
  {
   "cell_type": "code",
   "execution_count": 1,
   "metadata": {},
   "outputs": [],
   "source": [
    "# Import necessary libraries \n",
    "\n",
    "import numpy as np\n",
    "import pandas as pd\n",
    "from sklearn.cluster import MiniBatchKMeans\n",
    "from sklearn.cluster import KMeans\n",
    "from sklearn.feature_extraction.text import TfidfVectorizer\n",
    "from sklearn.decomposition import PCA\n",
    "import matplotlib.pyplot as plt\n"
   ]
  },
  {
   "cell_type": "markdown",
   "metadata": {},
   "source": [
    "## 1. Load and explore data \n",
    "- The dataset contains 5 different categories in 5 different folders. "
   ]
  },
  {
   "cell_type": "code",
   "execution_count": 2,
   "metadata": {},
   "outputs": [],
   "source": [
    "from sklearn.datasets import load_files\n",
    "\n",
    "# for reproducibility\n",
    "random_state = 22\n",
    "\n",
    "DATA_DIR = \"./data/bbc/\"\n",
    "data = load_files(DATA_DIR, encoding=\"utf-8\", decode_error=\"replace\", random_state=random_state)\n",
    "df = pd.DataFrame(list(zip(data['data'], data['target'])), columns=['text', 'label'])"
   ]
  },
  {
   "cell_type": "markdown",
   "metadata": {},
   "source": [
    "#### It is necessary to do an exploratory data analysis in order to gain some insights from the data.\n",
    "\n",
    "#### How is the data like?"
   ]
  },
  {
   "cell_type": "code",
   "execution_count": 3,
   "metadata": {},
   "outputs": [
    {
     "data": {
      "text/html": [
       "<div>\n",
       "<style scoped>\n",
       "    .dataframe tbody tr th:only-of-type {\n",
       "        vertical-align: middle;\n",
       "    }\n",
       "\n",
       "    .dataframe tbody tr th {\n",
       "        vertical-align: top;\n",
       "    }\n",
       "\n",
       "    .dataframe thead th {\n",
       "        text-align: right;\n",
       "    }\n",
       "</style>\n",
       "<table border=\"1\" class=\"dataframe\">\n",
       "  <thead>\n",
       "    <tr style=\"text-align: right;\">\n",
       "      <th></th>\n",
       "      <th>text</th>\n",
       "      <th>label</th>\n",
       "    </tr>\n",
       "  </thead>\n",
       "  <tbody>\n",
       "    <tr>\n",
       "      <th>0</th>\n",
       "      <td>Jones files Conte lawsuit\\n\\nMarion Jones has ...</td>\n",
       "      <td>3</td>\n",
       "    </tr>\n",
       "    <tr>\n",
       "      <th>1</th>\n",
       "      <td>English clubs make Euro history\\n\\nAll four of...</td>\n",
       "      <td>3</td>\n",
       "    </tr>\n",
       "    <tr>\n",
       "      <th>2</th>\n",
       "      <td>Tarantino 'to make Friday sequel'\\n\\nDirector ...</td>\n",
       "      <td>1</td>\n",
       "    </tr>\n",
       "    <tr>\n",
       "      <th>3</th>\n",
       "      <td>Lesotho textile workers lose jobs\\n\\nSix forei...</td>\n",
       "      <td>0</td>\n",
       "    </tr>\n",
       "    <tr>\n",
       "      <th>4</th>\n",
       "      <td>Celtic make late bid for Bellamy\\n\\nNewcastle ...</td>\n",
       "      <td>3</td>\n",
       "    </tr>\n",
       "  </tbody>\n",
       "</table>\n",
       "</div>"
      ],
      "text/plain": [
       "                                                text  label\n",
       "0  Jones files Conte lawsuit\\n\\nMarion Jones has ...      3\n",
       "1  English clubs make Euro history\\n\\nAll four of...      3\n",
       "2  Tarantino 'to make Friday sequel'\\n\\nDirector ...      1\n",
       "3  Lesotho textile workers lose jobs\\n\\nSix forei...      0\n",
       "4  Celtic make late bid for Bellamy\\n\\nNewcastle ...      3"
      ]
     },
     "execution_count": 3,
     "metadata": {},
     "output_type": "execute_result"
    }
   ],
   "source": [
    "df.head()"
   ]
  },
  {
   "cell_type": "markdown",
   "metadata": {},
   "source": [
    "#### how many 'class label' present in the dataset??"
   ]
  },
  {
   "cell_type": "code",
   "execution_count": 4,
   "metadata": {},
   "outputs": [
    {
     "data": {
      "text/plain": [
       "array([3, 1, 0, 4, 2])"
      ]
     },
     "execution_count": 4,
     "metadata": {},
     "output_type": "execute_result"
    }
   ],
   "source": [
    "df['label'].unique()"
   ]
  },
  {
   "cell_type": "markdown",
   "metadata": {},
   "source": [
    "#### Is the dataset balanced??\n",
    "\n",
    "If the dataset is balanced then, the dataset contains an approximately equal portion of each class."
   ]
  },
  {
   "cell_type": "code",
   "execution_count": 5,
   "metadata": {},
   "outputs": [
    {
     "data": {
      "text/plain": [
       "<AxesSubplot:>"
      ]
     },
     "execution_count": 5,
     "metadata": {},
     "output_type": "execute_result"
    },
    {
     "data": {
      "image/png": "[encoded data removed]",
      "text/plain": [
       "<Figure size 432x288 with 1 Axes>"
      ]
     },
     "metadata": {
      "needs_background": "light"
     },
     "output_type": "display_data"
    }
   ],
   "source": [
    "df['label'].value_counts().plot(kind='bar')"
   ]
  },
  {
   "cell_type": "markdown",
   "metadata": {},
   "source": [
    "## 2. Feature Engineering\n",
    "- we will use TFIDF approach.\n",
    "- TfidfVectorizer will convert all the documents to a matrix of TF-IDF features.\n",
    "- With Tfidfvectorizer we will calculate the word counts, IDF and TFIDF values in a go.\n",
    "\n"
   ]
  },
  {
   "cell_type": "code",
   "execution_count": 6,
   "metadata": {},
   "outputs": [],
   "source": [
    "tfidf_vectorizer = TfidfVectorizer(stop_words=\"english\")\n",
    "tfidf_vectorizer.fit(df.text.values)\n",
    "features = tfidf_vectorizer.transform(df.text.values)"
   ]
  },
  {
   "cell_type": "markdown",
   "metadata": {},
   "source": [
    "#### Lets check some values from the first document"
   ]
  },
  {
   "cell_type": "code",
   "execution_count": 7,
   "metadata": {},
   "outputs": [
    {
     "data": {
      "text/html": [
       "<div>\n",
       "<style scoped>\n",
       "    .dataframe tbody tr th:only-of-type {\n",
       "        vertical-align: middle;\n",
       "    }\n",
       "\n",
       "    .dataframe tbody tr th {\n",
       "        vertical-align: top;\n",
       "    }\n",
       "\n",
       "    .dataframe thead th {\n",
       "        text-align: right;\n",
       "    }\n",
       "</style>\n",
       "<table border=\"1\" class=\"dataframe\">\n",
       "  <thead>\n",
       "    <tr style=\"text-align: right;\">\n",
       "      <th></th>\n",
       "      <th>tfidf</th>\n",
       "    </tr>\n",
       "  </thead>\n",
       "  <tbody>\n",
       "    <tr>\n",
       "      <th>conte</th>\n",
       "      <td>0.673159</td>\n",
       "    </tr>\n",
       "    <tr>\n",
       "      <th>jones</th>\n",
       "      <td>0.292039</td>\n",
       "    </tr>\n",
       "    <tr>\n",
       "      <th>marion</th>\n",
       "      <td>0.213606</td>\n",
       "    </tr>\n",
       "    <tr>\n",
       "      <th>doping</th>\n",
       "      <td>0.181978</td>\n",
       "    </tr>\n",
       "    <tr>\n",
       "      <th>detector</th>\n",
       "      <td>0.154553</td>\n",
       "    </tr>\n",
       "  </tbody>\n",
       "</table>\n",
       "</div>"
      ],
      "text/plain": [
       "             tfidf\n",
       "conte     0.673159\n",
       "jones     0.292039\n",
       "marion    0.213606\n",
       "doping    0.181978\n",
       "detector  0.154553"
      ]
     },
     "execution_count": 7,
     "metadata": {},
     "output_type": "execute_result"
    }
   ],
   "source": [
    "# get the first vector out (for the first document)\n",
    "first_vector_tfidfvectorizer=features[0]\n",
    "\n",
    "# place tf-idf values in a pandas data frame\n",
    "feature_df = pd.DataFrame(first_vector_tfidfvectorizer.T.todense(), index=tfidf_vectorizer.get_feature_names(), columns=[\"tfidf\"])\n",
    "feature_df.sort_values(by=[\"tfidf\"],ascending=False).head()"
   ]
  },
  {
   "cell_type": "markdown",
   "metadata": {},
   "source": []
  },
  {
   "cell_type": "markdown",
   "metadata": {},
   "source": [
    "## 3. Model Building\n",
    "\n",
    "- We will check a version of KMeans algorithm, i.e. Mini-batch KMeans (MB KMeans).\n",
    "- MB KMeans is similar to the standard KMeans. But in the MB KMeans the computationlly expensive step is performed on a random sample only instead of the entire data.\n",
    "- We will set the number of clusters = 5 because our dataset contains categories.\n",
    "- But, if we do not have knowledge of the different labels then we may have to using domain knowledge and other ways to get the optimal numbers of clusters."
   ]
  },
  {
   "cell_type": "code",
   "execution_count": 8,
   "metadata": {},
   "outputs": [
    {
     "data": {
      "text/plain": [
       "MiniBatchKMeans(n_clusters=5, random_state=22)"
      ]
     },
     "execution_count": 8,
     "metadata": {},
     "output_type": "execute_result"
    }
   ],
   "source": [
    "mkmeans = MiniBatchKMeans(n_clusters=5, random_state=random_state)\n",
    "mkmeans.fit(features)"
   ]
  },
  {
   "cell_type": "markdown",
   "metadata": {},
   "source": [
    "#### lets check the predictions useing labels_ attribute of the model."
   ]
  },
  {
   "cell_type": "code",
   "execution_count": 9,
   "metadata": {},
   "outputs": [
    {
     "name": "stdout",
     "output_type": "stream",
     "text": [
      "[4 2 4 ... 4 4 1]\n",
      "\n",
      "\n",
      "[[1.34473036e-04 1.09906331e-02 0.00000000e+00 ... 0.00000000e+00\n",
      "  0.00000000e+00 0.00000000e+00]\n",
      " [1.68041680e-04 1.05754629e-02 0.00000000e+00 ... 0.00000000e+00\n",
      "  0.00000000e+00 0.00000000e+00]\n",
      " [2.47895846e-04 2.12690116e-03 0.00000000e+00 ... 0.00000000e+00\n",
      "  4.60818743e-04 0.00000000e+00]\n",
      " [0.00000000e+00 5.00195763e-03 0.00000000e+00 ... 0.00000000e+00\n",
      "  0.00000000e+00 0.00000000e+00]\n",
      " [4.67908112e-06 1.15377847e-02 4.45013653e-05 ... 4.09596975e-05\n",
      "  0.00000000e+00 4.63992050e-04]]\n"
     ]
    }
   ],
   "source": [
    "mkmeans.predict(features)\n",
    "print (mkmeans.labels_)\n",
    "print (\"\\n\")\n",
    "print(mkmeans.cluster_centers_)"
   ]
  },
  {
   "cell_type": "markdown",
   "metadata": {},
   "source": [
    "#### Check KMeans"
   ]
  },
  {
   "cell_type": "code",
   "execution_count": 10,
   "metadata": {},
   "outputs": [
    {
     "name": "stdout",
     "output_type": "stream",
     "text": [
      "[4 2 4 ... 4 4 1]\n",
      "\n",
      "\n",
      "[[1.34473036e-04 1.09906331e-02 0.00000000e+00 ... 0.00000000e+00\n",
      "  0.00000000e+00 0.00000000e+00]\n",
      " [1.68041680e-04 1.05754629e-02 0.00000000e+00 ... 0.00000000e+00\n",
      "  0.00000000e+00 0.00000000e+00]\n",
      " [2.47895846e-04 2.12690116e-03 0.00000000e+00 ... 0.00000000e+00\n",
      "  4.60818743e-04 0.00000000e+00]\n",
      " [0.00000000e+00 5.00195763e-03 0.00000000e+00 ... 0.00000000e+00\n",
      "  0.00000000e+00 0.00000000e+00]\n",
      " [4.67908112e-06 1.15377847e-02 4.45013653e-05 ... 4.09596975e-05\n",
      "  0.00000000e+00 4.63992050e-04]]\n"
     ]
    }
   ],
   "source": [
    "kmeans = KMeans(n_clusters=5, init='k-means++', max_iter=100, n_init=1)\n",
    "kmeans.fit(features)\n",
    "kmeans.predict(features)\n",
    "print (mkmeans.labels_)\n",
    "print (\"\\n\")\n",
    "print(mkmeans.cluster_centers_)"
   ]
  },
  {
   "cell_type": "code",
   "execution_count": 11,
   "metadata": {},
   "outputs": [
    {
     "data": {
      "text/plain": [
       "array([[29039,  5711, 27997, ..., 18590, 18591,     0],\n",
       "       [22845, 12210, 16592, ..., 16826, 16827,     0],\n",
       "       [17704, 22845, 15294, ..., 15629, 15628, 14562],\n",
       "       [11464,  9609, 22845, ..., 16998, 16999, 14562],\n",
       "       [10650,  3844,  3182, ..., 13381, 13382, 14562]])"
      ]
     },
     "execution_count": 11,
     "metadata": {},
     "output_type": "execute_result"
    }
   ],
   "source": [
    "# lets order the centroids\n",
    "\n",
    "order_centroids = kmeans.cluster_centers_.argsort()[:, ::-1]\n",
    "order_centroids"
   ]
  },
  {
   "cell_type": "code",
   "execution_count": 12,
   "metadata": {},
   "outputs": [
    {
     "data": {
      "text/plain": [
       "'seed'"
      ]
     },
     "execution_count": 12,
     "metadata": {},
     "output_type": "execute_result"
    }
   ],
   "source": [
    "# lets check the features\n",
    "terms = tfidf_vectorizer.get_feature_names()\n",
    "terms[23361]"
   ]
  },
  {
   "cell_type": "code",
   "execution_count": 13,
   "metadata": {},
   "outputs": [
    {
     "name": "stdout",
     "output_type": "stream",
     "text": [
      "\n",
      "Cluster 0:\n",
      "yukos\n",
      "china\n",
      "virus\n",
      "oil\n",
      "microsoft\n",
      "russian\n",
      "spyware\n",
      "gazprom\n",
      "security\n",
      "windows\n",
      "\n",
      "Cluster 1:\n",
      "said\n",
      "growth\n",
      "market\n",
      "year\n",
      "economy\n",
      "sales\n",
      "bank\n",
      "company\n",
      "prices\n",
      "economic\n",
      "\n",
      "Cluster 2:\n",
      "mr\n",
      "said\n",
      "labour\n",
      "people\n",
      "election\n",
      "blair\n",
      "government\n",
      "party\n",
      "brown\n",
      "minister\n",
      "\n",
      "Cluster 3:\n",
      "game\n",
      "england\n",
      "said\n",
      "win\n",
      "cup\n",
      "club\n",
      "match\n",
      "team\n",
      "players\n",
      "play\n",
      "\n",
      "Cluster 4:\n",
      "film\n",
      "best\n",
      "awards\n",
      "award\n",
      "music\n",
      "band\n",
      "year\n",
      "said\n",
      "films\n",
      "album\n"
     ]
    }
   ],
   "source": [
    "# lets see the centroids into which clusters they belongs\n",
    "for i in range(5):\n",
    "    print(\"\\nCluster %d:\" % i)\n",
    "    for ind in order_centroids[i, :10]:\n",
    "        print('%s' % terms[ind])"
   ]
  },
  {
   "cell_type": "markdown",
   "metadata": {},
   "source": [
    "#### lets do the prediction and check the results"
   ]
  },
  {
   "cell_type": "markdown",
   "metadata": {},
   "source": [
    "## 4.Visualization\n",
    "- Lets plot the features in a 2D space. \n",
    "- The dimension of features got from TfIdfVectorizer is large ( > 10,000)so  we will do the dimensionality reduction using Principal Component Analysis. \n",
    "- Here, PCA will transform the high dimensional features into 2 dimensions."
   ]
  },
  {
   "cell_type": "code",
   "execution_count": 14,
   "metadata": {},
   "outputs": [],
   "source": [
    "def plot_clusters(reduced_features, reduced_cluster_centers, cls):\n",
    "    plt.scatter(reduced_features[:,0], reduced_features[:,1], c=cls.predict(features))\n",
    "    plt.scatter(reduced_cluster_centers[:, 0], reduced_cluster_centers[:,1], marker='x', s=150, c='b')\n",
    "    \n",
    "# reduce the features to 2D\n",
    "pca = PCA(n_components=2, random_state=random_state)\n",
    "reduced_features = pca.fit_transform(features.toarray())\n",
    "\n",
    "# reduce the cluster centers to 2D\n",
    "reduced_cluster_centers_mk = pca.transform(mkmeans.cluster_centers_)\n",
    "reduced_cluster_centers_k = pca.transform(kmeans.cluster_centers_)"
   ]
  },
  {
   "cell_type": "markdown",
   "metadata": {},
   "source": [
    "#### lets visualize using scatter plot.\n",
    "- In the plot:\n",
    "    - X = first dimension \n",
    "    - Y = second dimension \n",
    "- Different colors represent the cluster members."
   ]
  },
  {
   "cell_type": "code",
   "execution_count": 15,
   "metadata": {},
   "outputs": [
    {
     "data": {
      "image/png": "[encoded data removed]",
      "text/plain": [
       "<Figure size 432x288 with 1 Axes>"
      ]
     },
     "metadata": {
      "needs_background": "light"
     },
     "output_type": "display_data"
    }
   ],
   "source": [
    "# MK Means\n",
    "    \n",
    "plot_clusters(reduced_features, reduced_cluster_centers_mk,mkmeans )"
   ]
  },
  {
   "cell_type": "code",
   "execution_count": 16,
   "metadata": {},
   "outputs": [
    {
     "data": {
      "image/png": "[encoded data removed]",
      "text/plain": [
       "<Figure size 432x288 with 1 Axes>"
      ]
     },
     "metadata": {
      "needs_background": "light"
     },
     "output_type": "display_data"
    }
   ],
   "source": [
    "# K Means\n",
    "    \n",
    "plot_clusters(reduced_features, reduced_cluster_centers_k, kmeans)"
   ]
  },
  {
   "cell_type": "markdown",
   "metadata": {},
   "source": [
    "## 5. Evaluation\n",
    "- Let us check the predictions."
   ]
  },
  {
   "cell_type": "code",
   "execution_count": 17,
   "metadata": {},
   "outputs": [
    {
     "name": "stdout",
     "output_type": "stream",
     "text": [
      "Prediction using KMeans\n",
      "[2]\n"
     ]
    }
   ],
   "source": [
    "print(\"Prediction using KMeans\")\n",
    "X = tfidf_vectorizer.transform([\"The new social network is popular in cell phones\"])\n",
    "predicted = kmeans.predict(X)\n",
    "print(predicted)"
   ]
  },
  {
   "cell_type": "markdown",
   "metadata": {},
   "source": [
    "- The prediction label is [2] i.e. cluster 2. It is related with technology and also the examined text is also technology related. This prediction is correct. \n",
    "- Further, we ahve to test the classifier with other text as well. "
   ]
  },
  {
   "cell_type": "code",
   "execution_count": 18,
   "metadata": {},
   "outputs": [
    {
     "name": "stdout",
     "output_type": "stream",
     "text": [
      "Prediction using Mini Batch KMeans\n",
      "[1]\n"
     ]
    }
   ],
   "source": [
    "print(\"Prediction using Mini Batch KMeans\")\n",
    "X = tfidf_vectorizer.transform([\"The new social network is popular in cell phones\"])\n",
    "predicted = mkmeans.predict(X)\n",
    "print(predicted)"
   ]
  },
  {
   "cell_type": "markdown",
   "metadata": {},
   "source": [
    "##### Is the prediction accurate??"
   ]
  },
  {
   "cell_type": "code",
   "execution_count": null,
   "metadata": {},
   "outputs": [],
   "source": []
  },
  {
   "cell_type": "markdown",
   "metadata": {},
   "source": [
    "#### Other formal methods for evaluation:\n",
    "- Since we have a labelled dataset is easier than the dataset without labelled dataset.\n",
    "- homogeneity_score: values ranges from 0 and 1 where 1 indicates ideally homogeneous labeling."
   ]
  },
  {
   "cell_type": "code",
   "execution_count": 19,
   "metadata": {},
   "outputs": [
    {
     "name": "stdout",
     "output_type": "stream",
     "text": [
      "Homogenity Mini KMeans: 0.573055\n",
      "Homogenity KMeans: 0.619430\n"
     ]
    }
   ],
   "source": [
    "from sklearn.metrics import homogeneity_score\n",
    "hs_mk = homogeneity_score(df.label, mkmeans.predict(features))\n",
    "hs_k = homogeneity_score(df.label, kmeans.predict(features))\n",
    "\n",
    "print(\"Homogenity Mini KMeans: %f\"%hs_mk)\n",
    "print(\"Homogenity KMeans: %f\"%hs_k)"
   ]
  },
  {
   "cell_type": "markdown",
   "metadata": {},
   "source": [
    "- In absence of labelled dataset, Cluster evaluation can be done using other metrics like Silhouette Coefficient (SC). \n",
    "- SC uses mean intra-cluster distance (a) and the mean nearest-cluster distance (b) for each sample.  \n",
    "- Here, b is the distance between a sample and the nearest cluster that the sample is not a part of.\n",
    "- The SC for a sample is (b - a) / max(a,b).\n",
    "    - best value = 1 \n",
    "    - worst value = -1\n",
    "    - near 0 values means overlapping clusters. \n",
    "    - Negative values means bad clustering."
   ]
  },
  {
   "cell_type": "code",
   "execution_count": 20,
   "metadata": {},
   "outputs": [
    {
     "name": "stdout",
     "output_type": "stream",
     "text": [
      "silhouette Mini KMeans: 0.009695\n",
      "silhouette KMeans: 0.009264\n"
     ]
    }
   ],
   "source": [
    "from sklearn.metrics import silhouette_score\n",
    "ss_mk = silhouette_score(features, labels=mkmeans.predict(features))\n",
    "ss_k = silhouette_score(features, labels=kmeans.predict(features))\n",
    "\n",
    "print(\"silhouette Mini KMeans: %f\"%ss_mk)\n",
    "print(\"silhouette KMeans: %f\"%ss_k)"
   ]
  },
  {
   "cell_type": "markdown",
   "metadata": {},
   "source": [
    "## References:\n",
    "-  https://sanjayasubedi.com.np/nlp/nlp-with-python-document-clustering/\n",
    "- https://www.kaggle.com/jbencina/clustering-documents-with-tfidf-and-kmeans\n",
    "- http://kavita-ganesan.com/extracting-keywords-from-text-tfidf/\n",
    "- https://towardsdatascience.com/applying-machine-learning-to-classify-an-unsupervised-text-document-e7bb6265f52"
   ]
  },
  {
   "cell_type": "code",
   "execution_count": null,
   "metadata": {},
   "outputs": [],
   "source": []
  }
 ],
 "metadata": {
  "kernelspec": {
   "display_name": "Python 3",
   "language": "python",
   "name": "python3"
  },
  "language_info": {
   "codemirror_mode": {
    "name": "ipython",
    "version": 3
   },
   "file_extension": ".py",
   "mimetype": "text/x-python",
   "name": "python",
   "nbconvert_exporter": "python",
   "pygments_lexer": "ipython3",
   "version": "3.6.9"
  }
 },
 "nbformat": 4,
 "nbformat_minor": 4
}
